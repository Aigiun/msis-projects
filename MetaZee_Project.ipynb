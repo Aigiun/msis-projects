{
  "cells": [
    {
      "cell_type": "markdown",
      "metadata": {
        "id": "view-in-github",
        "colab_type": "text"
      },
      "source": [
        "<a href=\"https://colab.research.google.com/github/Aigiun/public/blob/main/MetaZee_Project.ipynb\" target=\"_parent\"><img src=\"https://colab.research.google.com/assets/colab-badge.svg\" alt=\"Open In Colab\"/></a>"
      ]
    },
    {
      "cell_type": "code",
      "execution_count": null,
      "id": "3c693ff4",
      "metadata": {
        "id": "3c693ff4",
        "outputId": "b14e43d2-a516-4fa1-ee5b-4a3b8a546655"
      },
      "outputs": [
        {
          "name": "stdout",
          "output_type": "stream",
          "text": [
            "Success - the MySageMakerInstance is in the us-west-1 region. You will use the 632365934929.dkr.ecr.us-west-1.amazonaws.com/xgboost:latest container for your SageMaker endpoint.\n"
          ]
        }
      ],
      "source": [
        "# import libraries\n",
        "import boto3, re, sys, math, json, os, sagemaker, urllib.request\n",
        "from sagemaker import get_execution_role\n",
        "import numpy as np\n",
        "import pandas as pd\n",
        "import matplotlib.pyplot as plt\n",
        "from IPython.display import Image\n",
        "from IPython.display import display\n",
        "from time import gmtime, strftime\n",
        "from sagemaker.predictor import csv_serializer\n",
        "\n",
        "# Define IAM role\n",
        "role = get_execution_role()\n",
        "prefix = 'sagemaker/DEMO-xgboost-dm'\n",
        "my_region = boto3.session.Session().region_name # set the region of the instance\n",
        "\n",
        "# this line automatically looks for the XGBoost image URI and builds an XGBoost container.\n",
        "xgboost_container = sagemaker.image_uris.retrieve(\"xgboost\", my_region, \"latest\")\n",
        "\n",
        "print(\"Success - the MySageMakerInstance is in the \" + my_region + \" region. You will use the \" + xgboost_container + \" container for your SageMaker endpoint.\")"
      ]
    },
    {
      "cell_type": "code",
      "execution_count": null,
      "id": "52342627",
      "metadata": {
        "id": "52342627",
        "outputId": "23bf58c6-b245-47e7-c6b8-47bae7933535"
      },
      "outputs": [
        {
          "name": "stdout",
          "output_type": "stream",
          "text": [
            "S3 error:  An error occurred (BucketAlreadyOwnedByYou) when calling the CreateBucket operation: Your previous request to create the named bucket succeeded and you already own it.\n"
          ]
        }
      ],
      "source": [
        "bucket_name = 'predictionenglandleague123' # <--- CHANGE THIS VARIABLE TO A UNIQUE NAME FOR YOUR BUCKET\n",
        "s3 = boto3.resource('s3')\n",
        "try:\n",
        "    if  my_region == 'us-east-1':\n",
        "      s3.create_bucket(Bucket=bucket_name)\n",
        "    else: \n",
        "      s3.create_bucket(Bucket=bucket_name, CreateBucketConfiguration={ 'LocationConstraint': my_region })\n",
        "    print('S3 bucket created successfully')\n",
        "except Exception as e:\n",
        "    print('S3 error: ',e)"
      ]
    },
    {
      "cell_type": "code",
      "execution_count": null,
      "id": "160c1caa",
      "metadata": {
        "id": "160c1caa",
        "outputId": "cb1b30ea-e597-404e-c26a-9aa8442faa0e"
      },
      "outputs": [
        {
          "name": "stdout",
          "output_type": "stream",
          "text": [
            "Success: downloaded example.csv.\n",
            "Success: Data loaded into dataframe.\n"
          ]
        }
      ],
      "source": [
        "try:\n",
        "  urllib.request.urlretrieve (\"https://drive.google.com/uc?export=download&id=18hvXO38OXjjPF6Sqm2SM1-C3r54qppxD\", \"example.csv\")\n",
        "  print('Success: downloaded example.csv.')\n",
        "except Exception as e:\n",
        "  print('Data load error: ',e)\n",
        "\n",
        "try:\n",
        "  model_data = pd.read_csv('./example.csv',index_col=0)\n",
        "  print('Success: Data loaded into dataframe.')\n",
        "except Exception as e:\n",
        "    print('Data load error: ',e)"
      ]
    },
    {
      "cell_type": "code",
      "execution_count": null,
      "id": "017d4b14",
      "metadata": {
        "id": "017d4b14",
        "outputId": "4c6a0ee3-0dd6-4193-a845-314b54ae6f5d"
      },
      "outputs": [
        {
          "name": "stdout",
          "output_type": "stream",
          "text": [
            "(3154, 28) (1352, 28)\n"
          ]
        }
      ],
      "source": [
        "train_data, test_data = np.split(model_data.sample(frac=1, random_state=1729), [int(0.7 * len(model_data))])\n",
        "print(train_data.shape, test_data.shape)"
      ]
    },
    {
      "cell_type": "code",
      "execution_count": null,
      "id": "d3e4efc5",
      "metadata": {
        "id": "d3e4efc5",
        "outputId": "f694df07-687b-44e0-9123-fee1de39e451"
      },
      "outputs": [
        {
          "name": "stderr",
          "output_type": "stream",
          "text": [
            "INFO:botocore.credentials:Found credentials from IAM Role: BaseNotebookInstanceEc2InstanceRole\n"
          ]
        }
      ],
      "source": [
        "pd.concat([train_data['FTR_H'], train_data.drop(['FTR_D', 'FTR_H'], axis=1)], axis=1).to_csv('train.csv', index=False, header=False)\n",
        "boto3.Session().resource('s3').Bucket(bucket_name).Object(os.path.join(prefix, 'train/train.csv')).upload_file('train.csv')\n",
        "s3_input_train = sagemaker.inputs.TrainingInput(s3_data='s3://{}/{}/train'.format(bucket_name, prefix), content_type='csv')"
      ]
    },
    {
      "cell_type": "code",
      "execution_count": null,
      "id": "35e10d35",
      "metadata": {
        "id": "35e10d35"
      },
      "outputs": [],
      "source": [
        "sess = sagemaker.Session()\n",
        "xgb = sagemaker.estimator.Estimator(xgboost_container,role, instance_count=1, instance_type='ml.m4.xlarge',output_path='s3://{}/{}/output'.format(bucket_name, prefix),sagemaker_session=sess)\n",
        "xgb.set_hyperparameters(max_depth=5,eta=0.2,gamma=4,min_child_weight=6,subsample=0.8,silent=0,objective='binary:logistic',num_round=100)"
      ]
    },
    {
      "cell_type": "code",
      "execution_count": null,
      "id": "cf7e5931",
      "metadata": {
        "id": "cf7e5931",
        "outputId": "ee50af06-833c-497b-ae10-e9546e6baf17"
      },
      "outputs": [
        {
          "name": "stderr",
          "output_type": "stream",
          "text": [
            "INFO:sagemaker:Creating training-job with name: xgboost-2023-05-01-06-34-29-749\n"
          ]
        },
        {
          "name": "stdout",
          "output_type": "stream",
          "text": [
            "2023-05-01 06:34:29 Starting - Starting the training job...\n",
            "2023-05-01 06:34:55 Starting - Preparing the instances for training......\n",
            "2023-05-01 06:35:49 Downloading - Downloading input data...\n",
            "2023-05-01 06:36:19 Training - Downloading the training image...\n",
            "2023-05-01 06:36:54 Training - Training image download completed. Training in progress...\u001b[34mArguments: train\u001b[0m\n",
            "\u001b[34m[2023-05-01:06:37:05:INFO] Running standalone xgboost training.\u001b[0m\n",
            "\u001b[34m[2023-05-01:06:37:05:INFO] Path /opt/ml/input/data/validation does not exist!\u001b[0m\n",
            "\u001b[34m[2023-05-01:06:37:05:INFO] File size need to be processed in the node: 0.24mb. Available memory size in the node: 8587.41mb\u001b[0m\n",
            "\u001b[34m[2023-05-01:06:37:05:INFO] Determined delimiter of CSV input is ','\u001b[0m\n",
            "\u001b[34m[06:37:05] S3DistributionType set as FullyReplicated\u001b[0m\n",
            "\u001b[34m[06:37:05] 3154x26 matrix with 82004 entries loaded from /opt/ml/input/data/train?format=csv&label_column=0&delimiter=,\u001b[0m\n",
            "\u001b[34m[06:37:05] src/tree/updater_prune.cc:74: tree pruning end, 1 roots, 28 extra nodes, 8 pruned nodes, max_depth=5\u001b[0m\n",
            "\u001b[34m[0]#011train-error:0.168358\u001b[0m\n",
            "\u001b[34m[06:37:05] src/tree/updater_prune.cc:74: tree pruning end, 1 roots, 32 extra nodes, 6 pruned nodes, max_depth=5\u001b[0m\n",
            "\u001b[34m[1]#011train-error:0.161699\u001b[0m\n",
            "\u001b[34m[06:37:05] src/tree/updater_prune.cc:74: tree pruning end, 1 roots, 36 extra nodes, 2 pruned nodes, max_depth=5\u001b[0m\n",
            "\u001b[34m[2]#011train-error:0.158529\u001b[0m\n",
            "\u001b[34m[06:37:05] src/tree/updater_prune.cc:74: tree pruning end, 1 roots, 30 extra nodes, 8 pruned nodes, max_depth=5\u001b[0m\n",
            "\u001b[34m[3]#011train-error:0.159163\u001b[0m\n",
            "\u001b[34m[06:37:05] src/tree/updater_prune.cc:74: tree pruning end, 1 roots, 32 extra nodes, 8 pruned nodes, max_depth=5\u001b[0m\n",
            "\u001b[34m[4]#011train-error:0.1487\u001b[0m\n",
            "\u001b[34m[06:37:05] src/tree/updater_prune.cc:74: tree pruning end, 1 roots, 28 extra nodes, 8 pruned nodes, max_depth=5\u001b[0m\n",
            "\u001b[34m[5]#011train-error:0.1487\u001b[0m\n",
            "\u001b[34m[06:37:05] src/tree/updater_prune.cc:74: tree pruning end, 1 roots, 30 extra nodes, 10 pruned nodes, max_depth=5\u001b[0m\n",
            "\u001b[34m[6]#011train-error:0.149334\u001b[0m\n",
            "\u001b[34m[06:37:05] src/tree/updater_prune.cc:74: tree pruning end, 1 roots, 28 extra nodes, 14 pruned nodes, max_depth=5\u001b[0m\n",
            "\u001b[34m[7]#011train-error:0.148066\u001b[0m\n",
            "\u001b[34m[06:37:05] src/tree/updater_prune.cc:74: tree pruning end, 1 roots, 28 extra nodes, 6 pruned nodes, max_depth=5\u001b[0m\n",
            "\u001b[34m[8]#011train-error:0.146798\u001b[0m\n",
            "\u001b[34m[06:37:05] src/tree/updater_prune.cc:74: tree pruning end, 1 roots, 20 extra nodes, 14 pruned nodes, max_depth=5\u001b[0m\n",
            "\u001b[34m[9]#011train-error:0.145847\u001b[0m\n",
            "\u001b[34m[06:37:05] src/tree/updater_prune.cc:74: tree pruning end, 1 roots, 28 extra nodes, 8 pruned nodes, max_depth=5\u001b[0m\n",
            "\u001b[34m[10]#011train-error:0.142359\u001b[0m\n",
            "\u001b[34m[06:37:05] src/tree/updater_prune.cc:74: tree pruning end, 1 roots, 16 extra nodes, 10 pruned nodes, max_depth=5\u001b[0m\n",
            "\u001b[34m[11]#011train-error:0.139822\u001b[0m\n",
            "\u001b[34m[06:37:05] src/tree/updater_prune.cc:74: tree pruning end, 1 roots, 22 extra nodes, 12 pruned nodes, max_depth=5\u001b[0m\n",
            "\u001b[34m[12]#011train-error:0.138871\u001b[0m\n",
            "\u001b[34m[06:37:05] src/tree/updater_prune.cc:74: tree pruning end, 1 roots, 10 extra nodes, 10 pruned nodes, max_depth=5\u001b[0m\n",
            "\u001b[34m[13]#011train-error:0.137603\u001b[0m\n",
            "\u001b[34m[06:37:05] src/tree/updater_prune.cc:74: tree pruning end, 1 roots, 22 extra nodes, 10 pruned nodes, max_depth=5\u001b[0m\n",
            "\u001b[34m[14]#011train-error:0.133481\u001b[0m\n",
            "\u001b[34m[06:37:05] src/tree/updater_prune.cc:74: tree pruning end, 1 roots, 14 extra nodes, 8 pruned nodes, max_depth=5\u001b[0m\n",
            "\u001b[34m[15]#011train-error:0.135384\u001b[0m\n",
            "\u001b[34m[06:37:05] src/tree/updater_prune.cc:74: tree pruning end, 1 roots, 22 extra nodes, 4 pruned nodes, max_depth=5\u001b[0m\n",
            "\u001b[34m[16]#011train-error:0.136652\u001b[0m\n",
            "\u001b[34m[06:37:05] src/tree/updater_prune.cc:74: tree pruning end, 1 roots, 20 extra nodes, 8 pruned nodes, max_depth=5\u001b[0m\n",
            "\u001b[34m[17]#011train-error:0.132847\u001b[0m\n",
            "\u001b[34m[06:37:05] src/tree/updater_prune.cc:74: tree pruning end, 1 roots, 18 extra nodes, 14 pruned nodes, max_depth=5\u001b[0m\n",
            "\u001b[34m[18]#011train-error:0.134115\u001b[0m\n",
            "\u001b[34m[06:37:05] src/tree/updater_prune.cc:74: tree pruning end, 1 roots, 16 extra nodes, 6 pruned nodes, max_depth=5\u001b[0m\n",
            "\u001b[34m[19]#011train-error:0.136652\u001b[0m\n",
            "\u001b[34m[06:37:05] src/tree/updater_prune.cc:74: tree pruning end, 1 roots, 20 extra nodes, 14 pruned nodes, max_depth=5\u001b[0m\n",
            "\u001b[34m[20]#011train-error:0.134432\u001b[0m\n",
            "\u001b[34m[06:37:05] src/tree/updater_prune.cc:74: tree pruning end, 1 roots, 22 extra nodes, 12 pruned nodes, max_depth=5\u001b[0m\n",
            "\u001b[34m[21]#011train-error:0.132213\u001b[0m\n",
            "\u001b[34m[06:37:05] src/tree/updater_prune.cc:74: tree pruning end, 1 roots, 16 extra nodes, 8 pruned nodes, max_depth=5\u001b[0m\n",
            "\u001b[34m[22]#011train-error:0.131579\u001b[0m\n",
            "\u001b[34m[06:37:05] src/tree/updater_prune.cc:74: tree pruning end, 1 roots, 24 extra nodes, 6 pruned nodes, max_depth=5\u001b[0m\n",
            "\u001b[34m[23]#011train-error:0.12936\u001b[0m\n",
            "\u001b[34m[06:37:05] src/tree/updater_prune.cc:74: tree pruning end, 1 roots, 20 extra nodes, 8 pruned nodes, max_depth=5\u001b[0m\n",
            "\u001b[34m[24]#011train-error:0.12936\u001b[0m\n",
            "\u001b[34m[06:37:05] src/tree/updater_prune.cc:74: tree pruning end, 1 roots, 18 extra nodes, 14 pruned nodes, max_depth=5\u001b[0m\n",
            "\u001b[34m[25]#011train-error:0.12936\u001b[0m\n",
            "\u001b[34m[06:37:05] src/tree/updater_prune.cc:74: tree pruning end, 1 roots, 6 extra nodes, 16 pruned nodes, max_depth=2\u001b[0m\n",
            "\u001b[34m[26]#011train-error:0.128091\u001b[0m\n",
            "\u001b[34m[06:37:05] src/tree/updater_prune.cc:74: tree pruning end, 1 roots, 16 extra nodes, 10 pruned nodes, max_depth=5\u001b[0m\n",
            "\u001b[34m[27]#011train-error:0.126506\u001b[0m\n",
            "\u001b[34m[06:37:05] src/tree/updater_prune.cc:74: tree pruning end, 1 roots, 12 extra nodes, 10 pruned nodes, max_depth=5\u001b[0m\n",
            "\u001b[34m[28]#011train-error:0.125238\u001b[0m\n",
            "\u001b[34m[06:37:05] src/tree/updater_prune.cc:74: tree pruning end, 1 roots, 12 extra nodes, 12 pruned nodes, max_depth=5\u001b[0m\n",
            "\u001b[34m[29]#011train-error:0.12397\u001b[0m\n",
            "\u001b[34m[06:37:05] src/tree/updater_prune.cc:74: tree pruning end, 1 roots, 12 extra nodes, 22 pruned nodes, max_depth=4\u001b[0m\n",
            "\u001b[34m[30]#011train-error:0.123018\u001b[0m\n",
            "\u001b[34m[06:37:05] src/tree/updater_prune.cc:74: tree pruning end, 1 roots, 10 extra nodes, 2 pruned nodes, max_depth=5\u001b[0m\n",
            "\u001b[34m[31]#011train-error:0.123335\u001b[0m\n",
            "\u001b[34m[06:37:05] src/tree/updater_prune.cc:74: tree pruning end, 1 roots, 6 extra nodes, 16 pruned nodes, max_depth=3\u001b[0m\n",
            "\u001b[34m[32]#011train-error:0.125555\u001b[0m\n",
            "\u001b[34m[06:37:05] src/tree/updater_prune.cc:74: tree pruning end, 1 roots, 10 extra nodes, 26 pruned nodes, max_depth=5\u001b[0m\n",
            "\u001b[34m[33]#011train-error:0.124604\u001b[0m\n",
            "\u001b[34m[06:37:05] src/tree/updater_prune.cc:74: tree pruning end, 1 roots, 22 extra nodes, 10 pruned nodes, max_depth=5\u001b[0m\n",
            "\u001b[34m[34]#011train-error:0.123018\u001b[0m\n",
            "\u001b[34m[06:37:05] src/tree/updater_prune.cc:74: tree pruning end, 1 roots, 12 extra nodes, 14 pruned nodes, max_depth=5\u001b[0m\n",
            "\u001b[34m[35]#011train-error:0.121116\u001b[0m\n",
            "\u001b[34m[06:37:05] src/tree/updater_prune.cc:74: tree pruning end, 1 roots, 8 extra nodes, 8 pruned nodes, max_depth=4\u001b[0m\n",
            "\u001b[34m[36]#011train-error:0.121433\u001b[0m\n",
            "\u001b[34m[06:37:05] src/tree/updater_prune.cc:74: tree pruning end, 1 roots, 0 extra nodes, 18 pruned nodes, max_depth=0\u001b[0m\n",
            "\u001b[34m[37]#011train-error:0.121433\u001b[0m\n",
            "\u001b[34m[06:37:05] src/tree/updater_prune.cc:74: tree pruning end, 1 roots, 14 extra nodes, 14 pruned nodes, max_depth=5\u001b[0m\n",
            "\u001b[34m[38]#011train-error:0.120165\u001b[0m\n",
            "\u001b[34m[06:37:05] src/tree/updater_prune.cc:74: tree pruning end, 1 roots, 10 extra nodes, 4 pruned nodes, max_depth=5\u001b[0m\n",
            "\u001b[34m[39]#011train-error:0.118263\u001b[0m\n",
            "\u001b[34m[06:37:05] src/tree/updater_prune.cc:74: tree pruning end, 1 roots, 16 extra nodes, 10 pruned nodes, max_depth=5\u001b[0m\n",
            "\u001b[34m[40]#011train-error:0.117945\u001b[0m\n",
            "\u001b[34m[06:37:05] src/tree/updater_prune.cc:74: tree pruning end, 1 roots, 10 extra nodes, 20 pruned nodes, max_depth=4\u001b[0m\n",
            "\u001b[34m[41]#011train-error:0.117945\u001b[0m\n",
            "\u001b[34m[06:37:05] src/tree/updater_prune.cc:74: tree pruning end, 1 roots, 16 extra nodes, 20 pruned nodes, max_depth=5\u001b[0m\n",
            "\u001b[34m[42]#011train-error:0.11636\u001b[0m\n",
            "\u001b[34m[06:37:05] src/tree/updater_prune.cc:74: tree pruning end, 1 roots, 20 extra nodes, 14 pruned nodes, max_depth=5\u001b[0m\n",
            "\u001b[34m[43]#011train-error:0.114141\u001b[0m\n",
            "\u001b[34m[06:37:05] src/tree/updater_prune.cc:74: tree pruning end, 1 roots, 0 extra nodes, 18 pruned nodes, max_depth=0\u001b[0m\n",
            "\u001b[34m[44]#011train-error:0.115092\u001b[0m\n",
            "\u001b[34m[06:37:05] src/tree/updater_prune.cc:74: tree pruning end, 1 roots, 20 extra nodes, 8 pruned nodes, max_depth=5\u001b[0m\n",
            "\u001b[34m[45]#011train-error:0.110653\u001b[0m\n",
            "\u001b[34m[06:37:05] src/tree/updater_prune.cc:74: tree pruning end, 1 roots, 0 extra nodes, 12 pruned nodes, max_depth=0\u001b[0m\n",
            "\u001b[34m[46]#011train-error:0.111287\u001b[0m\n",
            "\u001b[34m[06:37:05] src/tree/updater_prune.cc:74: tree pruning end, 1 roots, 14 extra nodes, 16 pruned nodes, max_depth=4\u001b[0m\n",
            "\u001b[34m[47]#011train-error:0.111287\u001b[0m\n",
            "\u001b[34m[06:37:05] src/tree/updater_prune.cc:74: tree pruning end, 1 roots, 4 extra nodes, 14 pruned nodes, max_depth=2\u001b[0m\n",
            "\u001b[34m[48]#011train-error:0.111287\u001b[0m\n",
            "\u001b[34m[06:37:05] src/tree/updater_prune.cc:74: tree pruning end, 1 roots, 8 extra nodes, 14 pruned nodes, max_depth=4\u001b[0m\n",
            "\u001b[34m[49]#011train-error:0.111921\u001b[0m\n",
            "\u001b[34m[06:37:05] src/tree/updater_prune.cc:74: tree pruning end, 1 roots, 22 extra nodes, 12 pruned nodes, max_depth=5\u001b[0m\n",
            "\u001b[34m[50]#011train-error:0.109068\u001b[0m\n",
            "\u001b[34m[06:37:05] src/tree/updater_prune.cc:74: tree pruning end, 1 roots, 12 extra nodes, 6 pruned nodes, max_depth=5\u001b[0m\n",
            "\u001b[34m[51]#011train-error:0.1078\u001b[0m\n",
            "\u001b[34m[06:37:05] src/tree/updater_prune.cc:74: tree pruning end, 1 roots, 18 extra nodes, 20 pruned nodes, max_depth=5\u001b[0m\n",
            "\u001b[34m[52]#011train-error:0.10558\u001b[0m\n",
            "\u001b[34m[06:37:05] src/tree/updater_prune.cc:74: tree pruning end, 1 roots, 0 extra nodes, 18 pruned nodes, max_depth=0\u001b[0m\n",
            "\u001b[34m[53]#011train-error:0.104946\u001b[0m\n",
            "\u001b[34m[06:37:05] src/tree/updater_prune.cc:74: tree pruning end, 1 roots, 14 extra nodes, 8 pruned nodes, max_depth=5\u001b[0m\n",
            "\u001b[34m[54]#011train-error:0.104946\u001b[0m\n",
            "\u001b[34m[06:37:05] src/tree/updater_prune.cc:74: tree pruning end, 1 roots, 12 extra nodes, 18 pruned nodes, max_depth=5\u001b[0m\n",
            "\u001b[34m[55]#011train-error:0.107483\u001b[0m\n",
            "\u001b[34m[06:37:05] src/tree/updater_prune.cc:74: tree pruning end, 1 roots, 16 extra nodes, 12 pruned nodes, max_depth=5\u001b[0m\n",
            "\u001b[34m[56]#011train-error:0.103044\u001b[0m\n",
            "\u001b[34m[06:37:05] src/tree/updater_prune.cc:74: tree pruning end, 1 roots, 0 extra nodes, 22 pruned nodes, max_depth=0\u001b[0m\n",
            "\u001b[34m[57]#011train-error:0.103044\u001b[0m\n",
            "\u001b[34m[06:37:05] src/tree/updater_prune.cc:74: tree pruning end, 1 roots, 0 extra nodes, 34 pruned nodes, max_depth=0\u001b[0m\n",
            "\u001b[34m[58]#011train-error:0.103044\u001b[0m\n",
            "\u001b[34m[06:37:05] src/tree/updater_prune.cc:74: tree pruning end, 1 roots, 16 extra nodes, 20 pruned nodes, max_depth=5\u001b[0m\n",
            "\u001b[34m[59]#011train-error:0.103995\u001b[0m\n",
            "\u001b[34m[06:37:05] src/tree/updater_prune.cc:74: tree pruning end, 1 roots, 8 extra nodes, 18 pruned nodes, max_depth=4\u001b[0m\n",
            "\u001b[34m[60]#011train-error:0.102727\u001b[0m\n",
            "\u001b[34m[06:37:05] src/tree/updater_prune.cc:74: tree pruning end, 1 roots, 0 extra nodes, 12 pruned nodes, max_depth=0\u001b[0m\n",
            "\u001b[34m[61]#011train-error:0.102727\u001b[0m\n",
            "\u001b[34m[06:37:05] src/tree/updater_prune.cc:74: tree pruning end, 1 roots, 18 extra nodes, 26 pruned nodes, max_depth=5\u001b[0m\n",
            "\u001b[34m[62]#011train-error:0.105897\u001b[0m\n",
            "\u001b[34m[06:37:05] src/tree/updater_prune.cc:74: tree pruning end, 1 roots, 12 extra nodes, 16 pruned nodes, max_depth=5\u001b[0m\n",
            "\u001b[34m[63]#011train-error:0.103995\u001b[0m\n",
            "\u001b[34m[06:37:05] src/tree/updater_prune.cc:74: tree pruning end, 1 roots, 0 extra nodes, 12 pruned nodes, max_depth=0\u001b[0m\n",
            "\u001b[34m[64]#011train-error:0.103995\u001b[0m\n",
            "\u001b[34m[06:37:05] src/tree/updater_prune.cc:74: tree pruning end, 1 roots, 16 extra nodes, 16 pruned nodes, max_depth=5\u001b[0m\n",
            "\u001b[34m[65]#011train-error:0.101776\u001b[0m\n",
            "\u001b[34m[06:37:05] src/tree/updater_prune.cc:74: tree pruning end, 1 roots, 8 extra nodes, 18 pruned nodes, max_depth=3\u001b[0m\n",
            "\u001b[34m[66]#011train-error:0.101141\u001b[0m\n",
            "\u001b[34m[06:37:05] src/tree/updater_prune.cc:74: tree pruning end, 1 roots, 0 extra nodes, 14 pruned nodes, max_depth=0\u001b[0m\n",
            "\u001b[34m[67]#011train-error:0.100507\u001b[0m\n",
            "\u001b[34m[06:37:05] src/tree/updater_prune.cc:74: tree pruning end, 1 roots, 2 extra nodes, 22 pruned nodes, max_depth=1\u001b[0m\n",
            "\u001b[34m[68]#011train-error:0.099873\u001b[0m\n",
            "\u001b[34m[06:37:05] src/tree/updater_prune.cc:74: tree pruning end, 1 roots, 16 extra nodes, 4 pruned nodes, max_depth=5\u001b[0m\n",
            "\u001b[34m[69]#011train-error:0.09702\u001b[0m\n",
            "\u001b[34m[06:37:05] src/tree/updater_prune.cc:74: tree pruning end, 1 roots, 0 extra nodes, 22 pruned nodes, max_depth=0\u001b[0m\n",
            "\u001b[34m[70]#011train-error:0.09702\u001b[0m\n",
            "\u001b[34m[06:37:05] src/tree/updater_prune.cc:74: tree pruning end, 1 roots, 0 extra nodes, 16 pruned nodes, max_depth=0\u001b[0m\n",
            "\u001b[34m[71]#011train-error:0.096703\u001b[0m\n",
            "\u001b[34m[06:37:05] src/tree/updater_prune.cc:74: tree pruning end, 1 roots, 10 extra nodes, 10 pruned nodes, max_depth=4\u001b[0m\n",
            "\u001b[34m[72]#011train-error:0.097337\u001b[0m\n",
            "\u001b[34m[06:37:05] src/tree/updater_prune.cc:74: tree pruning end, 1 roots, 0 extra nodes, 16 pruned nodes, max_depth=0\u001b[0m\n",
            "\u001b[34m[73]#011train-error:0.097337\u001b[0m\n",
            "\u001b[34m[06:37:05] src/tree/updater_prune.cc:74: tree pruning end, 1 roots, 6 extra nodes, 18 pruned nodes, max_depth=3\u001b[0m\n",
            "\u001b[34m[74]#011train-error:0.097337\u001b[0m\n",
            "\u001b[34m[06:37:05] src/tree/updater_prune.cc:74: tree pruning end, 1 roots, 16 extra nodes, 16 pruned nodes, max_depth=5\u001b[0m\n",
            "\u001b[34m[75]#011train-error:0.09702\u001b[0m\n",
            "\u001b[34m[06:37:05] src/tree/updater_prune.cc:74: tree pruning end, 1 roots, 6 extra nodes, 12 pruned nodes, max_depth=3\u001b[0m\n",
            "\u001b[34m[76]#011train-error:0.096703\u001b[0m\n",
            "\u001b[34m[06:37:05] src/tree/updater_prune.cc:74: tree pruning end, 1 roots, 8 extra nodes, 20 pruned nodes, max_depth=4\u001b[0m\n",
            "\u001b[34m[77]#011train-error:0.094483\u001b[0m\n",
            "\u001b[34m[06:37:05] src/tree/updater_prune.cc:74: tree pruning end, 1 roots, 0 extra nodes, 18 pruned nodes, max_depth=0\u001b[0m\n",
            "\u001b[34m[78]#011train-error:0.094166\u001b[0m\n",
            "\u001b[34m[06:37:05] src/tree/updater_prune.cc:74: tree pruning end, 1 roots, 18 extra nodes, 22 pruned nodes, max_depth=5\u001b[0m\n",
            "\u001b[34m[79]#011train-error:0.092898\u001b[0m\n",
            "\u001b[34m[06:37:05] src/tree/updater_prune.cc:74: tree pruning end, 1 roots, 14 extra nodes, 18 pruned nodes, max_depth=4\u001b[0m\n",
            "\u001b[34m[80]#011train-error:0.092581\u001b[0m\n",
            "\u001b[34m[06:37:05] src/tree/updater_prune.cc:74: tree pruning end, 1 roots, 0 extra nodes, 12 pruned nodes, max_depth=0\u001b[0m\n",
            "\u001b[34m[81]#011train-error:0.092581\u001b[0m\n",
            "\u001b[34m[06:37:05] src/tree/updater_prune.cc:74: tree pruning end, 1 roots, 0 extra nodes, 26 pruned nodes, max_depth=0\u001b[0m\n",
            "\u001b[34m[82]#011train-error:0.092264\u001b[0m\n",
            "\u001b[34m[06:37:05] src/tree/updater_prune.cc:74: tree pruning end, 1 roots, 12 extra nodes, 22 pruned nodes, max_depth=5\u001b[0m\n",
            "\u001b[34m[83]#011train-error:0.092898\u001b[0m\n",
            "\u001b[34m[06:37:05] src/tree/updater_prune.cc:74: tree pruning end, 1 roots, 12 extra nodes, 8 pruned nodes, max_depth=5\u001b[0m\n",
            "\u001b[34m[84]#011train-error:0.093215\u001b[0m\n",
            "\u001b[34m[06:37:05] src/tree/updater_prune.cc:74: tree pruning end, 1 roots, 14 extra nodes, 22 pruned nodes, max_depth=5\u001b[0m\n",
            "\u001b[34m[85]#011train-error:0.093849\u001b[0m\n",
            "\u001b[34m[06:37:05] src/tree/updater_prune.cc:74: tree pruning end, 1 roots, 2 extra nodes, 22 pruned nodes, max_depth=1\u001b[0m\n",
            "\u001b[34m[86]#011train-error:0.093849\u001b[0m\n",
            "\u001b[34m[06:37:05] src/tree/updater_prune.cc:74: tree pruning end, 1 roots, 0 extra nodes, 20 pruned nodes, max_depth=0\u001b[0m\n",
            "\u001b[34m[87]#011train-error:0.093849\u001b[0m\n",
            "\u001b[34m[06:37:05] src/tree/updater_prune.cc:74: tree pruning end, 1 roots, 12 extra nodes, 10 pruned nodes, max_depth=5\u001b[0m\n",
            "\u001b[34m[88]#011train-error:0.092898\u001b[0m\n",
            "\u001b[34m[06:37:05] src/tree/updater_prune.cc:74: tree pruning end, 1 roots, 0 extra nodes, 16 pruned nodes, max_depth=0\u001b[0m\n",
            "\u001b[34m[89]#011train-error:0.091947\u001b[0m\n",
            "\u001b[34m[06:37:05] src/tree/updater_prune.cc:74: tree pruning end, 1 roots, 14 extra nodes, 20 pruned nodes, max_depth=4\u001b[0m\n",
            "\u001b[34m[90]#011train-error:0.091947\u001b[0m\n",
            "\u001b[34m[06:37:05] src/tree/updater_prune.cc:74: tree pruning end, 1 roots, 20 extra nodes, 8 pruned nodes, max_depth=5\u001b[0m\n",
            "\u001b[34m[91]#011train-error:0.091313\u001b[0m\n",
            "\u001b[34m[06:37:05] src/tree/updater_prune.cc:74: tree pruning end, 1 roots, 0 extra nodes, 12 pruned nodes, max_depth=0\u001b[0m\n",
            "\u001b[34m[92]#011train-error:0.091313\u001b[0m\n",
            "\u001b[34m[06:37:05] src/tree/updater_prune.cc:74: tree pruning end, 1 roots, 8 extra nodes, 18 pruned nodes, max_depth=4\u001b[0m\n",
            "\u001b[34m[93]#011train-error:0.090044\u001b[0m\n",
            "\u001b[34m[06:37:05] src/tree/updater_prune.cc:74: tree pruning end, 1 roots, 0 extra nodes, 16 pruned nodes, max_depth=0\u001b[0m\n",
            "\u001b[34m[94]#011train-error:0.090361\u001b[0m\n",
            "\u001b[34m[06:37:05] src/tree/updater_prune.cc:74: tree pruning end, 1 roots, 0 extra nodes, 28 pruned nodes, max_depth=0\u001b[0m\n",
            "\u001b[34m[95]#011train-error:0.090044\u001b[0m\n",
            "\u001b[34m[06:37:05] src/tree/updater_prune.cc:74: tree pruning end, 1 roots, 6 extra nodes, 14 pruned nodes, max_depth=3\u001b[0m\n",
            "\u001b[34m[96]#011train-error:0.088776\u001b[0m\n",
            "\u001b[34m[06:37:05] src/tree/updater_prune.cc:74: tree pruning end, 1 roots, 0 extra nodes, 24 pruned nodes, max_depth=0\u001b[0m\n",
            "\u001b[34m[97]#011train-error:0.08941\u001b[0m\n",
            "\u001b[34m[06:37:05] src/tree/updater_prune.cc:74: tree pruning end, 1 roots, 8 extra nodes, 18 pruned nodes, max_depth=3\u001b[0m\n",
            "\u001b[34m[98]#011train-error:0.089093\u001b[0m\n",
            "\u001b[34m[06:37:05] src/tree/updater_prune.cc:74: tree pruning end, 1 roots, 4 extra nodes, 28 pruned nodes, max_depth=2\u001b[0m\n",
            "\u001b[34m[99]#011train-error:0.090044\u001b[0m\n",
            "\n",
            "2023-05-01 06:37:26 Uploading - Uploading generated training model\n",
            "2023-05-01 06:37:26 Completed - Training job completed\n",
            "Training seconds: 97\n",
            "Billable seconds: 97\n"
          ]
        }
      ],
      "source": [
        "xgb.fit({'train': s3_input_train})"
      ]
    },
    {
      "cell_type": "code",
      "execution_count": null,
      "id": "039b562a",
      "metadata": {
        "id": "039b562a",
        "outputId": "e2ea2c16-20b4-4c0f-cdf1-9e586866df83"
      },
      "outputs": [
        {
          "name": "stderr",
          "output_type": "stream",
          "text": [
            "INFO:sagemaker:Creating model with name: xgboost-2023-05-01-06-40-24-482\n",
            "INFO:sagemaker:Creating endpoint-config with name xgboost-2023-05-01-06-40-24-482\n",
            "INFO:sagemaker:Creating endpoint with name xgboost-2023-05-01-06-40-24-482\n"
          ]
        },
        {
          "name": "stdout",
          "output_type": "stream",
          "text": [
            "------!"
          ]
        }
      ],
      "source": [
        "xgb_predictor = xgb.deploy(initial_instance_count=1,instance_type='ml.m4.xlarge')"
      ]
    },
    {
      "cell_type": "code",
      "execution_count": null,
      "id": "6fecfb94",
      "metadata": {
        "id": "6fecfb94",
        "outputId": "a1ed832f-297e-4e50-fe97-bae3d780fccd"
      },
      "outputs": [
        {
          "name": "stdout",
          "output_type": "stream",
          "text": [
            "(1352,)\n"
          ]
        }
      ],
      "source": [
        "from sagemaker.serializers import CSVSerializer\n",
        "\n",
        "test_data_array = test_data.drop(['FTR_D', 'FTR_H'], axis=1).values #load the data into an array\n",
        "xgb_predictor.serializer = CSVSerializer() # set the serializer type\n",
        "predictions = xgb_predictor.predict(test_data_array).decode('utf-8') # predict!\n",
        "predictions_array = np.fromstring(predictions[1:], sep=',') # and turn the prediction into an array\n",
        "print(predictions_array.shape)"
      ]
    },
    {
      "cell_type": "code",
      "execution_count": null,
      "id": "8f2bf135",
      "metadata": {
        "id": "8f2bf135",
        "outputId": "4e76d727-cde3-4b4f-e0bb-cd336b2044c3"
      },
      "outputs": [
        {
          "name": "stdout",
          "output_type": "stream",
          "text": [
            "\n",
            "Overall Classification Rate: 84.1%\n",
            "\n",
            "Predicted      win             not win\n",
            "Observed\n",
            "win            85% (637)    17% (100)\n",
            "not win         15% (115)     83% (500) \n",
            "\n"
          ]
        }
      ],
      "source": [
        "cm = pd.crosstab(index=test_data['FTR_H'], columns=np.round(predictions_array), rownames=['Observed'], colnames=['Predicted'])\n",
        "tn = cm.iloc[0,0]; fn = cm.iloc[1,0]; tp = cm.iloc[1,1]; fp = cm.iloc[0,1]; p = (tp+tn)/(tp+tn+fp+fn)*100\n",
        "print(\"\\n{0:<20}{1:<4.1f}%\\n\".format(\"Overall Classification Rate: \", p))\n",
        "print(\"{0:<15}{1:<15}{2:>8}\".format(\"Predicted\", \"win\", \"not win\"))\n",
        "print(\"Observed\")\n",
        "print(\"{0:<15}{1:<2.0f}% ({2:<}){3:>6.0f}% ({4:<})\".format(\"win\", tn/(tn+fn)*100,tn, fp/(tp+fp)*100, fp))\n",
        "print(\"{0:<16}{1:<1.0f}% ({2:<}){3:>7.0f}% ({4:<}) \\n\".format(\"not win\", fn/(tn+fn)*100,fn, tp/(tp+fp)*100, tp))"
      ]
    },
    {
      "cell_type": "code",
      "execution_count": null,
      "id": "4217c74c",
      "metadata": {
        "id": "4217c74c"
      },
      "outputs": [],
      "source": [
        "test_data['predictions'] = predictions"
      ]
    },
    {
      "cell_type": "code",
      "execution_count": null,
      "id": "32a740a5",
      "metadata": {
        "id": "32a740a5"
      },
      "outputs": [],
      "source": [
        "test_df['prediction'] = result_df.values"
      ]
    },
    {
      "cell_type": "code",
      "execution_count": null,
      "id": "976dd1a8",
      "metadata": {
        "id": "976dd1a8"
      },
      "outputs": [],
      "source": [
        "test_data.to_excel('test_data.xlsx', index=False)"
      ]
    },
    {
      "cell_type": "code",
      "execution_count": null,
      "id": "b67dbc17",
      "metadata": {
        "id": "b67dbc17"
      },
      "outputs": [],
      "source": []
    }
  ],
  "metadata": {
    "kernelspec": {
      "display_name": "conda_python3",
      "language": "python",
      "name": "conda_python3"
    },
    "language_info": {
      "codemirror_mode": {
        "name": "ipython",
        "version": 3
      },
      "file_extension": ".py",
      "mimetype": "text/x-python",
      "name": "python",
      "nbconvert_exporter": "python",
      "pygments_lexer": "ipython3",
      "version": "3.10.8"
    },
    "colab": {
      "provenance": [],
      "include_colab_link": true
    }
  },
  "nbformat": 4,
  "nbformat_minor": 5
}